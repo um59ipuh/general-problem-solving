{
 "cells": [
  {
   "cell_type": "code",
   "execution_count": 1,
   "id": "c3b66b83",
   "metadata": {},
   "outputs": [],
   "source": [
    "class Node:\n",
    "    def __init__(self, val, _next = None):\n",
    "        self.val = val\n",
    "        self.next = _next\n",
    "        \n",
    "    def __repr__(self):\n",
    "        return \"Value: {} & Next: {}\".format(self.val, self.next)"
   ]
  },
  {
   "cell_type": "code",
   "execution_count": 1,
   "id": "c521b900",
   "metadata": {},
   "outputs": [],
   "source": [
    "class MyLinkedList:\n",
    "    def __init__(self):\n",
    "        # Contains all values of linedlist\n",
    "        self.data_source = []\n",
    "        self.head = None\n",
    "        self.current = None\n",
    "        self.tail = None\n",
    "        \n",
    "    def insert(self, val):\n",
    "        # if head is none then this is head node\n",
    "        node = Node(val= val)\n",
    "        if self.head == None:\n",
    "            self.head = node\n",
    "        else:\n",
    "            self.tail.next = node\n",
    "            self.tail = node\n",
    "    \n",
    "    def get_at_position(self, pos):\n",
    "        pass\n",
    "    \n",
    "    def print_elements(self):\n",
    "        pass\n",
    "    "
   ]
  },
  {
   "cell_type": "code",
   "execution_count": 7,
   "id": "4de058b7",
   "metadata": {},
   "outputs": [],
   "source": [
    "# Definition for singly-linked list.\n",
    "class ListNode:\n",
    "    def __init__(self, val=0, next=None):\n",
    "        self.val = val\n",
    "        self.next = next\n",
    "        \n",
    "class Solution:\n",
    "    \n",
    "    def print_lists(head: ListNode):\n",
    "        curr = head\n",
    "        print_list = []\n",
    "        while curr != None:\n",
    "            print_list.append(curr.val)\n",
    "            curr = curr.next\n",
    "        print(print_list)\n",
    "    \n",
    "    def getLists(arr):\n",
    "        i = 0\n",
    "        head = None\n",
    "        prev = None\n",
    "        while i < len(arr):\n",
    "            node = ListNode(val= arr[i])\n",
    "            if head == None:\n",
    "                head = node\n",
    "                prev = head\n",
    "            else:\n",
    "                prev.next = node\n",
    "                prev = node\n",
    "            i += 1\n",
    "        return head\n",
    "    \n",
    "    def getDecimalValue(head: ListNode) -> int:\n",
    "        # traverse and collect 0/1 values\n",
    "        current = head\n",
    "        bin_arr = []\n",
    "        while current != None:\n",
    "            bin_arr.append(current.val)\n",
    "            current = current.next\n",
    "        # calcualte binary to interger\n",
    "        num = 0\n",
    "        for i in range(len(bin_arr)):\n",
    "            j = i + 1\n",
    "            num += bin_arr[-j]*(2**i)\n",
    "        return num\n",
    "    \n",
    "    def removeElements(head, val):\n",
    "        # check initial checking :: list could be empty\n",
    "        if head == None:\n",
    "            return None\n",
    "        # check list one by one and delete all matching node\n",
    "        #start = None\n",
    "        curr = head\n",
    "        prev = None\n",
    "        \n",
    "        while curr != None:\n",
    "            if curr.val == val:\n",
    "                _next = curr.next\n",
    "                curr.next = None\n",
    "                curr = _next\n",
    "            else:\n",
    "                if prev == None:\n",
    "                    prev = curr\n",
    "                else:\n",
    "                    prev.next = curr\n",
    "                    prev = curr\n",
    "                curr = curr.next\n",
    "        if prev != None:\n",
    "            prev.next = curr\n",
    "        return head"
   ]
  },
  {
   "cell_type": "code",
   "execution_count": 8,
   "id": "4e0a4bbc",
   "metadata": {},
   "outputs": [
    {
     "name": "stdout",
     "output_type": "stream",
     "text": [
      "[2, 1, 1, 1, 1, 1, 2, 1, 1, 1]\n",
      "[2, 2]\n"
     ]
    }
   ],
   "source": [
    "in_arr = [2, 1, 1, 1, 1, 1, 2, 1, 1, 1]\n",
    "lists = Solution.getLists(in_arr)\n",
    "Solution.print_lists(lists)\n",
    "head = Solution.removeElements(lists, 1)\n",
    "Solution.print_lists(head)"
   ]
  },
  {
   "cell_type": "code",
   "execution_count": null,
   "id": "ae8bd2a8",
   "metadata": {},
   "outputs": [],
   "source": []
  }
 ],
 "metadata": {
  "kernelspec": {
   "display_name": "Python 3",
   "language": "python",
   "name": "python3"
  },
  "language_info": {
   "codemirror_mode": {
    "name": "ipython",
    "version": 3
   },
   "file_extension": ".py",
   "mimetype": "text/x-python",
   "name": "python",
   "nbconvert_exporter": "python",
   "pygments_lexer": "ipython3",
   "version": "3.8.8"
  }
 },
 "nbformat": 4,
 "nbformat_minor": 5
}
