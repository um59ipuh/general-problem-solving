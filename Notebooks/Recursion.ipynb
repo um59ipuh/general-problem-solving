{
 "cells": [
  {
   "cell_type": "code",
   "execution_count": 1,
   "id": "037df36b",
   "metadata": {},
   "outputs": [
    {
     "name": "stdout",
     "output_type": "stream",
     "text": [
      "Factorial of 5 : 120\n"
     ]
    }
   ],
   "source": [
    "# 5 * 4 * 3 * 2 * 1\n",
    "def factorial(n: int) -> int:\n",
    "    if n <= 1:\n",
    "        return 1\n",
    "    return n * factorial(n-1)\n",
    "\n",
    "print(\"Factorial of {} : {}\".format(5, factorial(5)))"
   ]
  },
  {
   "cell_type": "code",
   "execution_count": 5,
   "id": "fe9393e2",
   "metadata": {},
   "outputs": [],
   "source": [
    "# Definition for singly-linked list.\n",
    "class ListNode:\n",
    "    def __init__(self, val=0, next=None):\n",
    "        self.val = val\n",
    "        self.next = next\n",
    "     \n",
    "    def __repr__(self):\n",
    "        return \"Value : {}, Next : {}\".format(self.val, self.next)\n",
    "    \n",
    "\n",
    "class Solution:\n",
    "    @staticmethod\n",
    "    def addTwoNumbers(l1: [ListNode], l2: [ListNode]) -> [ListNode]:\n",
    "        # if two node is None\n",
    "        len_l1 = len(l1)\n",
    "        len_l2 = len(l2)\n",
    "        if len_l1 == 0 and len_l2 == 0:\n",
    "            return []\n",
    "        if len_l1 == 0 and len_l2 != 0:\n",
    "            return l1\n",
    "        if len_l1 != 0 and len_l2 == 0:\n",
    "            return l2\n",
    "        \n",
    "        list_sum = [ListNode]\n",
    "        carry = 0\n",
    "        \n",
    "        pointer = 0\n",
    "        while pointer < len_l1 and pointer < len_l2:\n",
    "            value = l1[pointer].val + l2[pointer].val + carry\n",
    "            carry = value // 10\n",
    "            node = ListNode(val = value%10)\n",
    "            if pointer > 0:\n",
    "                prev_node = list_sum[pointer-1]\n",
    "                prev_node.next = node\n",
    "            list_sum.append(node)\n",
    "            pointer += 1\n",
    "            \n",
    "        while pointer < len_l1:\n",
    "            value = l1[pointer].val + carry\n",
    "            carry = value // 10\n",
    "            node = ListNode(val = value%10)\n",
    "            if pointer > 0:\n",
    "                prev_node = list_sum[pointer-1]\n",
    "                prev_node.next = node\n",
    "            list_sum.append(node)\n",
    "            pointer += 1\n",
    "            \n",
    "        while pointer < len_l2:\n",
    "            value = l2[pointer].val + carry\n",
    "            carry = value // 10\n",
    "            node = ListNode(val = value%10)\n",
    "            if pointer > 0:\n",
    "                prev_node = list_sum[pointer-1]\n",
    "                prev_node.next = node\n",
    "            list_sum.append(node)\n",
    "            pointer += 1\n",
    "            \n",
    "        if carry > 0:\n",
    "            node = ListNode(val = carry)\n",
    "            if pointer > 0:\n",
    "                prev_node = list_sum[pointer-1]\n",
    "                prev_node.next = node\n",
    "            list_sum.append(node)\n",
    "            \n",
    "        return list_sum\n",
    "    \n",
    "    @staticmethod\n",
    "    def create_node(l: []) -> [ListNode]:\n",
    "        list_node = []\n",
    "        for i in range(len(l)):\n",
    "            node = ListNode(val= l[i])\n",
    "            if i > 0:\n",
    "                prev_node = list_node[i-1]\n",
    "                prev_node.next = node\n",
    "            list_node.append(node)\n",
    "        return list_node"
   ]
  },
  {
   "cell_type": "code",
   "execution_count": 7,
   "id": "36d6f0de",
   "metadata": {},
   "outputs": [
    {
     "data": {
      "text/plain": [
       "[__main__.ListNode,\n",
       " Value : 8, Next : Value : 9, Next : Value : 0, Next : Value : 0, Next : None,\n",
       " Value : 9, Next : Value : 9, Next : Value : 0, Next : Value : 1, Next : None,\n",
       " Value : 9, Next : Value : 0, Next : Value : 0, Next : None,\n",
       " Value : 9, Next : Value : 0, Next : Value : 1, Next : None,\n",
       " Value : 0, Next : Value : 0, Next : None,\n",
       " Value : 0, Next : Value : 1, Next : None,\n",
       " Value : 0, Next : None,\n",
       " Value : 1, Next : None]"
      ]
     },
     "execution_count": 7,
     "metadata": {},
     "output_type": "execute_result"
    }
   ],
   "source": [
    "l1 = Solution.create_node([9, 9, 9, 9, 9 , 9, 9])\n",
    "l2 = Solution.create_node(l = [9,9,9,9])\n",
    "res = Solution.addTwoNumbers(l1 = l1, l2 = l2)\n",
    "res"
   ]
  },
  {
   "cell_type": "code",
   "execution_count": null,
   "id": "1f67e6fe",
   "metadata": {},
   "outputs": [],
   "source": []
  }
 ],
 "metadata": {
  "kernelspec": {
   "display_name": "Python 3",
   "language": "python",
   "name": "python3"
  },
  "language_info": {
   "codemirror_mode": {
    "name": "ipython",
    "version": 3
   },
   "file_extension": ".py",
   "mimetype": "text/x-python",
   "name": "python",
   "nbconvert_exporter": "python",
   "pygments_lexer": "ipython3",
   "version": "3.8.8"
  }
 },
 "nbformat": 4,
 "nbformat_minor": 5
}
